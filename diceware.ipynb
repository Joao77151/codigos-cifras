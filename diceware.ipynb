{
 "cells": [
  {
   "cell_type": "markdown",
   "metadata": {},
   "source": [
    "# Diceware: método seguro para gerar senhas"
   ]
  },
  {
   "cell_type": "markdown",
   "metadata": {},
   "source": [
    "Fonte: [The Diceware Passphrase Home Page](http://world.std.com/~reinhold/diceware.html)"
   ]
  },
  {
   "cell_type": "markdown",
   "metadata": {},
   "source": [
    "## Compilação da lista de palavras\n",
    "\n",
    "Neste notebook comecei com uma lista de `326.716` palavras da língua portuguesa, que fui sucessivamente filtrando com diversos critérios até chegar próximo da quantidade necessária para o método diceware. Então embaralhei as `7808` palavras restantes e fatiei a lista para ficar com a quantidade exata: `7776 (6**5)`. No último passo, gerei o arquivo [7776palavras.txt](7776palavras.txt) com linhas de `\"11111 abaci\"` a `\"66666 zurpa\"`."
   ]
  },
  {
   "cell_type": "code",
   "execution_count": 1,
   "metadata": {
    "collapsed": false
   },
   "outputs": [
    {
     "data": {
      "text/plain": [
       "7776"
      ]
     },
     "execution_count": 1,
     "metadata": {},
     "output_type": "execute_result"
    }
   ],
   "source": [
    "6**5"
   ]
  },
  {
   "cell_type": "code",
   "execution_count": 2,
   "metadata": {
    "collapsed": false
   },
   "outputs": [
    {
     "data": {
      "text/plain": [
       "(326716, True)"
      ]
     },
     "execution_count": 2,
     "metadata": {},
     "output_type": "execute_result"
    }
   ],
   "source": [
    "completa = [lin.strip() for lin in open('palavras.txt').readlines()]\n",
    "len(completa), len(completa) == len(set(completa))"
   ]
  },
  {
   "cell_type": "code",
   "execution_count": 3,
   "metadata": {
    "collapsed": false
   },
   "outputs": [
    {
     "data": {
      "text/plain": [
       "(['a',\n",
       "  'ª',\n",
       "  'á',\n",
       "  'à',\n",
       "  'ã',\n",
       "  'a-amilase',\n",
       "  'á-bê-cê',\n",
       "  'á-é-i-ó-u',\n",
       "  'a-histórico',\n",
       "  'à-propos'],\n",
       " ['zurzidura',\n",
       "  'zurzir',\n",
       "  'zuzins',\n",
       "  'zwinglianismo',\n",
       "  'zwingliano',\n",
       "  'µg',\n",
       "  'µL',\n",
       "  'µm',\n",
       "  'µmol',\n",
       "  'µUI'])"
      ]
     },
     "execution_count": 3,
     "metadata": {},
     "output_type": "execute_result"
    }
   ],
   "source": [
    "completa[:10], completa[-10:]"
   ]
  },
  {
   "cell_type": "code",
   "execution_count": 4,
   "metadata": {
    "collapsed": false
   },
   "outputs": [
    {
     "data": {
      "text/plain": [
       "18098"
      ]
     },
     "execution_count": 4,
     "metadata": {},
     "output_type": "execute_result"
    }
   ],
   "source": [
    "ate5 = [p for p in completa if len(p) <= 5]\n",
    "len(ate5)"
   ]
  },
  {
   "cell_type": "code",
   "execution_count": 5,
   "metadata": {
    "collapsed": false
   },
   "outputs": [
    {
     "data": {
      "text/plain": [
       "8950"
      ]
     },
     "execution_count": 5,
     "metadata": {},
     "output_type": "execute_result"
    }
   ],
   "source": [
    "import string\n",
    "so_ascii = []\n",
    "for palavra in ate5:\n",
    "    if all(c in string.ascii_lowercase for c in palavra):\n",
    "        so_ascii.append(palavra)\n",
    "    \n",
    "len(so_ascii)"
   ]
  },
  {
   "cell_type": "code",
   "execution_count": 6,
   "metadata": {
    "collapsed": false
   },
   "outputs": [
    {
     "data": {
      "text/plain": [
       "(['a',\n",
       "  'ab',\n",
       "  'abaci',\n",
       "  'abade',\n",
       "  'abafo',\n",
       "  'abal',\n",
       "  'abama',\n",
       "  'abana',\n",
       "  'abar',\n",
       "  'abaso'],\n",
       " ['zulos',\n",
       "  'zulu',\n",
       "  'zum',\n",
       "  'zunar',\n",
       "  'zunda',\n",
       "  'zunir',\n",
       "  'zupar',\n",
       "  'zura',\n",
       "  'zurca',\n",
       "  'zurpa'])"
      ]
     },
     "execution_count": 6,
     "metadata": {},
     "output_type": "execute_result"
    }
   ],
   "source": [
    "so_ascii[:10], so_ascii[-10:]"
   ]
  },
  {
   "cell_type": "code",
   "execution_count": 7,
   "metadata": {
    "collapsed": false
   },
   "outputs": [
    {
     "name": "stdout",
     "output_type": "stream",
     "text": [
      "Plurais removidas:\n",
      "abios abius acres agues aias aipos alas algas alhos almas alpes altas altos amas anas angas anjos anos antas anus arcas arcos ares artes arus as asas aspas assas atos aves babas bacus bagas bagos baios balas belas belos bias bicos bips birus blues boas bobas bobos bocas bodes bofes bogas boias bois bolas boles bolos botas botos breus brios bufas bufos bules buris buxos buzos cabas cabos cacas cacos caias cais cajus camas canas capas caras caris caros casas casos catas cavas cebas cegas cegos ceias ceras cias cilas cocas cocos colas colos cones copas copos cotas covas coxas coxos cris crus cubos cucas cucos cuias cujos cujus curas cus dados damas das datas dedos dias didis dinas ditos doces donas donos dores dos doses dunas duras duros dus efes efues eis eixos enxus eros ervas es exs exus facas faces fadas fados faias fatos favas feias feios fenos feras fetos figos finas finos fios fitas fixos focas fofas fofos foges fogos foles fomes fotos freis frias frios fulas fulos fumos furos fusos gaios galos gatas gatos gelos gemas gilas giros godes golas gols gomas gotas grous guias gutas heras horas https iafis igbas iinis ilhas imbus incas iogas iris is iscas ivas jacas jacus jades japus jatis jatos jecas jejes jesus jiles jipis jocos jogos joias joios jotas jucas jutas labas lagos lamas lanas lapas las latas ledos leis leoas leos lesas lesos leves ligas limas limos lipes lisas lisos lixas lixos lobos loios lonas lopes loros lotos luas lulas lulus lumes lutos luvas luzes mails maios mais malas mamas manas manos mapas mas mates matos maus meias meios menas menos meros mesas meus mexes miaos micas micos mijas mijos mimos minas miras miris modas modos molas moles mols monas monos motos ms mucos mudas mudos mulas muros musas nabos nadas nados nagas nas natas naus naves negas netos neves nomes nonos nos novas novos nuas numes nunes obis obras ocas ocos ohms oiros oitis olhas olhos olmos ondas os ossos otis ouros ovos pacas pacos pacus pafs pagos pais palas palos panos papos parus patas patis patos pauls paus pebas pegas pegos peles pelos penas pepes peras perus pesos petas petos pias piaus picas picos pinos pios pipas pires piris pisos pitas pitos pneus polos pomas pomos potes povos pras proas ps pubas pulas pulos punas punks puros pus putas puxas rabos raias raios ramas ramos ranus raras rasas rasos ratos recos redes regos reis remas remos retos ricas ricos rijos rimas rios ritas rocas rodas rolas rolos rosas rotas rotos roxas roxos ruas rubis rufes rufos ruges rumos rutas sacas sacis sacos safas sagus saias sais sajus salas sapos saras saxes sebas sebes sebos secas secos sedas seios seis selos senas senes setes seus sexos shows sinas sinos siris sitos socos sojas solas solos sonos soros sotos spins sujas sujos sumos sus talos tatus taxis tebas tecas temas tesas tesos tetas tetos tias ticos tios tipas tipis tipos tiras tiros tocos todos tojos tolas tolos topos tops tubos tudos tufos tuias tupis udus umes unas unhas urnas ursos urzes us uvas uxis vacas vais valas vales valos varas vars vazas veios velas veras vias vidas vides vilas viras viros vis vivas vivos vogas volts voos votos vs watts zebus zeros zonas zoos "
     ]
    }
   ],
   "source": [
    "ocorrencias = set(so_ascii)\n",
    "singulares = []\n",
    "print('Plurais removidas:')\n",
    "for pal in so_ascii:\n",
    "    if pal[-1] == 's' and pal[:-1] in ocorrencias:\n",
    "        print(pal, end=' ')\n",
    "    else:\n",
    "        singulares.append(pal)"
   ]
  },
  {
   "cell_type": "code",
   "execution_count": 8,
   "metadata": {
    "collapsed": false
   },
   "outputs": [
    {
     "data": {
      "text/plain": [
       "8404"
      ]
     },
     "execution_count": 8,
     "metadata": {},
     "output_type": "execute_result"
    }
   ],
   "source": [
    "len(singulares)"
   ]
  },
  {
   "cell_type": "code",
   "execution_count": 9,
   "metadata": {
    "collapsed": false
   },
   "outputs": [
    {
     "data": {
      "text/plain": [
       "628"
      ]
     },
     "execution_count": 9,
     "metadata": {},
     "output_type": "execute_result"
    }
   ],
   "source": [
    "sobrando = len(singulares) - 6**5\n",
    "sobrando"
   ]
  },
  {
   "cell_type": "code",
   "execution_count": 10,
   "metadata": {
    "collapsed": false
   },
   "outputs": [
    {
     "data": {
      "text/plain": [
       "7850"
      ]
     },
     "execution_count": 10,
     "metadata": {},
     "output_type": "execute_result"
    }
   ],
   "source": [
    "tam4ou5 = [p for p in singulares if len(p) in (4,5)]\n",
    "len(tam4ou5)"
   ]
  },
  {
   "cell_type": "code",
   "execution_count": 11,
   "metadata": {
    "collapsed": false
   },
   "outputs": [
    {
     "data": {
      "text/plain": [
       "74"
      ]
     },
     "execution_count": 11,
     "metadata": {},
     "output_type": "execute_result"
    }
   ],
   "source": [
    "sobrando = len(tam4ou5) - 6**5\n",
    "sobrando"
   ]
  },
  {
   "cell_type": "code",
   "execution_count": 12,
   "metadata": {
    "collapsed": false
   },
   "outputs": [],
   "source": [
    "palavroes = {lin.strip().lower() for lin in open('palavroes.txt', encoding='latin1').readlines()}"
   ]
  },
  {
   "cell_type": "code",
   "execution_count": 13,
   "metadata": {
    "collapsed": false
   },
   "outputs": [
    {
     "data": {
      "text/plain": [
       "302"
      ]
     },
     "execution_count": 13,
     "metadata": {},
     "output_type": "execute_result"
    }
   ],
   "source": [
    "len(palavroes)"
   ]
  },
  {
   "cell_type": "code",
   "execution_count": 14,
   "metadata": {
    "collapsed": false
   },
   "outputs": [
    {
     "data": {
      "text/plain": [
       "7808"
      ]
     },
     "execution_count": 14,
     "metadata": {},
     "output_type": "execute_result"
    }
   ],
   "source": [
    "limpas = list(set(tam4ou5) - palavroes)\n",
    "len(limpas)"
   ]
  },
  {
   "cell_type": "code",
   "execution_count": 15,
   "metadata": {
    "collapsed": false
   },
   "outputs": [
    {
     "data": {
      "text/plain": [
       "32"
      ]
     },
     "execution_count": 15,
     "metadata": {},
     "output_type": "execute_result"
    }
   ],
   "source": [
    "sobrando = len(limpas) - 6**5\n",
    "sobrando"
   ]
  },
  {
   "cell_type": "code",
   "execution_count": 16,
   "metadata": {
    "collapsed": false
   },
   "outputs": [
    {
     "data": {
      "text/plain": [
       "(7776,\n",
       " ['abaci',\n",
       "  'abade',\n",
       "  'abafo',\n",
       "  'abal',\n",
       "  'abama',\n",
       "  'abana',\n",
       "  'abar',\n",
       "  'abaso',\n",
       "  'abati',\n",
       "  'abatu'],\n",
       " ['zular',\n",
       "  'zulos',\n",
       "  'zulu',\n",
       "  'zunar',\n",
       "  'zunda',\n",
       "  'zunir',\n",
       "  'zupar',\n",
       "  'zura',\n",
       "  'zurca',\n",
       "  'zurpa'])"
      ]
     },
     "execution_count": 16,
     "metadata": {},
     "output_type": "execute_result"
    }
   ],
   "source": [
    "import random\n",
    "random.shuffle(limpas)\n",
    "final = sorted(limpas[:6**5])\n",
    "len(final), final[:10], final[-10:]"
   ]
  },
  {
   "cell_type": "code",
   "execution_count": 17,
   "metadata": {
    "collapsed": false
   },
   "outputs": [
    {
     "data": {
      "text/plain": [
       "7776"
      ]
     },
     "execution_count": 17,
     "metadata": {},
     "output_type": "execute_result"
    }
   ],
   "source": [
    "import itertools\n",
    "dados5 = list(''.join(dados) for dados in itertools.product('123456', repeat=5))\n",
    "len(dados5)"
   ]
  },
  {
   "cell_type": "code",
   "execution_count": 18,
   "metadata": {
    "collapsed": false
   },
   "outputs": [
    {
     "data": {
      "text/plain": [
       "([('11111', 'abaci'),\n",
       "  ('11112', 'abade'),\n",
       "  ('11113', 'abafo'),\n",
       "  ('11114', 'abal'),\n",
       "  ('11115', 'abama'),\n",
       "  ('11116', 'abana'),\n",
       "  ('11121', 'abar'),\n",
       "  ('11122', 'abaso'),\n",
       "  ('11123', 'abati'),\n",
       "  ('11124', 'abatu')],\n",
       " [('66653', 'zular'),\n",
       "  ('66654', 'zulos'),\n",
       "  ('66655', 'zulu'),\n",
       "  ('66656', 'zunar'),\n",
       "  ('66661', 'zunda'),\n",
       "  ('66662', 'zunir'),\n",
       "  ('66663', 'zupar'),\n",
       "  ('66664', 'zura'),\n",
       "  ('66665', 'zurca'),\n",
       "  ('66666', 'zurpa')])"
      ]
     },
     "execution_count": 18,
     "metadata": {},
     "output_type": "execute_result"
    }
   ],
   "source": [
    "pares = list(zip(dados5, final))\n",
    "pares[:10], pares[-10:]"
   ]
  },
  {
   "cell_type": "code",
   "execution_count": 19,
   "metadata": {
    "collapsed": false
   },
   "outputs": [
    {
     "name": "stdout",
     "output_type": "stream",
     "text": [
      " 7776 15552 91105 7776palavras.txt\r\n"
     ]
    }
   ],
   "source": [
    "with open('7776palavras.txt', 'wt', encoding='ascii') as saida:\n",
    "    for par in pares:\n",
    "        saida.write('%s %s\\n' % par)\n",
    "        \n",
    "!wc 7776palavras.txt"
   ]
  },
  {
   "cell_type": "code",
   "execution_count": null,
   "metadata": {
    "collapsed": true
   },
   "outputs": [],
   "source": []
  }
 ],
 "metadata": {
  "kernelspec": {
   "display_name": "Python 3",
   "language": "python",
   "name": "python3"
  },
  "language_info": {
   "codemirror_mode": {
    "name": "ipython",
    "version": 3
   },
   "file_extension": ".py",
   "mimetype": "text/x-python",
   "name": "python",
   "nbconvert_exporter": "python",
   "pygments_lexer": "ipython3",
   "version": "3.5.1"
  }
 },
 "nbformat": 4,
 "nbformat_minor": 0
}
